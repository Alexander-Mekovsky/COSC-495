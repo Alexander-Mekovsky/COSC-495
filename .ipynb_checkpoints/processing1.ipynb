{
 "cells": [
  {
   "cell_type": "code",
   "execution_count": null,
   "id": "eb8d1f29",
   "metadata": {},
   "outputs": [],
   "source": [
    "#import pyvis.network\n",
    "import pandas as pd\n",
    "from matplotlib import pyplot as plt\n",
    "\n",
    "# Load\n",
    "catFile = pd.read_csv('ASJC_catcode.csv', encoding ='latin-1')\n",
    "journalFile = pd.read_csv('ASJC_journals.csv', encoding ='latin-1')\n",
    "\n",
    "catDict = []\n",
    "#for category in catFile:\n",
    " # catDict\n",
    "\n",
    "# Bar Chart\n",
    "catCount = {}\n",
    "for codes in journalFile['All Science Journal Classification Codes (ASJC)']:\n",
    "  delim = ';'\n",
    "  codes = str(codes)\n",
    "  AJSC = codes.split(delim)\n",
    "  try:\n",
    "    catCount[len(AJSC)] += 1\n",
    "  except:\n",
    "    catCount[len(AJSC)] = 1\n",
    "    \n",
    "    \n",
    "         \n",
    "\n",
    "plt.bar(catCount.keys(), catCount.values())\n",
    "plt.xlabel('Number of Categories')\n",
    "plt.ylabel('Number of Articles')\n",
    "plt.title('Frequency of Categories')\n",
    "\n",
    "plt.show()"
   ]
  },
  {
   "cell_type": "markdown",
   "id": "953e6d15",
   "metadata": {},
   "source": []
  }
 ],
 "metadata": {
  "kernelspec": {
   "display_name": "Python 3 (ipykernel)",
   "language": "python",
   "name": "python3"
  },
  "language_info": {
   "codemirror_mode": {
    "name": "ipython",
    "version": 3
   },
   "file_extension": ".py",
   "mimetype": "text/x-python",
   "name": "python",
   "nbconvert_exporter": "python",
   "pygments_lexer": "ipython3",
   "version": "3.10.9"
  }
 },
 "nbformat": 4,
 "nbformat_minor": 5
}
