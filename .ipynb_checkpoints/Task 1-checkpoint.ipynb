{
 "cells": [
  {
   "cell_type": "code",
   "execution_count": 12,
   "id": "eb8d1f29",
   "metadata": {},
   "outputs": [
    {
     "ename": "TypeError",
     "evalue": "bar() got multiple values for argument 'height'",
     "output_type": "error",
     "traceback": [
      "\u001b[1;31m---------------------------------------------------------------------------\u001b[0m",
      "\u001b[1;31mTypeError\u001b[0m                                 Traceback (most recent call last)",
      "Cell \u001b[1;32mIn[12], line 27\u001b[0m\n\u001b[0;32m     21\u001b[0m   \u001b[38;5;28;01mexcept\u001b[39;00m:\n\u001b[0;32m     22\u001b[0m     catCount[\u001b[38;5;28mlen\u001b[39m(AJSC)] \u001b[38;5;241m=\u001b[39m \u001b[38;5;241m1\u001b[39m\n\u001b[1;32m---> 27\u001b[0m \u001b[43mplt\u001b[49m\u001b[38;5;241;43m.\u001b[39;49m\u001b[43mbar\u001b[49m\u001b[43m(\u001b[49m\u001b[43mcatCount\u001b[49m\u001b[38;5;241;43m.\u001b[39;49m\u001b[43mkeys\u001b[49m\u001b[43m(\u001b[49m\u001b[43m)\u001b[49m\u001b[43m,\u001b[49m\u001b[43m \u001b[49m\u001b[43mcatCount\u001b[49m\u001b[38;5;241;43m.\u001b[39;49m\u001b[43mvalues\u001b[49m\u001b[43m(\u001b[49m\u001b[43m)\u001b[49m\u001b[43m,\u001b[49m\u001b[43mheight\u001b[49m\u001b[43m \u001b[49m\u001b[38;5;241;43m=\u001b[39;49m\u001b[43m \u001b[49m\u001b[38;5;241;43m2\u001b[39;49m\u001b[43m)\u001b[49m\n\u001b[0;32m     28\u001b[0m plt\u001b[38;5;241m.\u001b[39mxlabel(\u001b[38;5;124m'\u001b[39m\u001b[38;5;124mNumber of Categories\u001b[39m\u001b[38;5;124m'\u001b[39m)\n\u001b[0;32m     29\u001b[0m plt\u001b[38;5;241m.\u001b[39mylabel(\u001b[38;5;124m'\u001b[39m\u001b[38;5;124mNumber of Articles\u001b[39m\u001b[38;5;124m'\u001b[39m)\n",
      "\u001b[1;31mTypeError\u001b[0m: bar() got multiple values for argument 'height'"
     ]
    }
   ],
   "source": [
    "#import pyvis.network\n",
    "import pandas as pd\n",
    "from matplotlib import pyplot as plt\n",
    "\n",
    "# Load\n",
    "catFile = pd.read_csv('ASJC_catcode.csv', encoding ='latin-1')\n",
    "journalFile = pd.read_csv('ASJC_journals.csv', encoding ='latin-1')\n",
    "\n",
    "catDict = []\n",
    "#for category in catFile:\n",
    " # catDict\n",
    "\n",
    "# Bar Chart\n",
    "catCount = {}\n",
    "for codes in journalFile['All Science Journal Classification Codes (ASJC)']:\n",
    "  delim = ';'\n",
    "  codes = str(codes)\n",
    "  AJSC = codes.split(delim)\n",
    "  try:\n",
    "    catCount[len(AJSC)] += 1\n",
    "  except:\n",
    "    catCount[len(AJSC)] = 1\n",
    "    \n",
    "    \n",
    "         \n",
    "\n",
    "plt.bar(catCount.keys(), catCount.values())\n",
    "plt.xlabel('Number of Categories')\n",
    "plt.ylabel('Number of Articles')\n",
    "plt.title('Frequency of Categories')\n",
    "\n",
    "plt.show()"
   ]
  },
  {
   "cell_type": "code",
   "execution_count": null,
   "id": "626cd0b9",
   "metadata": {},
   "outputs": [],
   "source": []
  }
 ],
 "metadata": {
  "kernelspec": {
   "display_name": "Python 3 (ipykernel)",
   "language": "python",
   "name": "python3"
  },
  "language_info": {
   "codemirror_mode": {
    "name": "ipython",
    "version": 3
   },
   "file_extension": ".py",
   "mimetype": "text/x-python",
   "name": "python",
   "nbconvert_exporter": "python",
   "pygments_lexer": "ipython3",
   "version": "3.10.9"
  }
 },
 "nbformat": 4,
 "nbformat_minor": 5
}
